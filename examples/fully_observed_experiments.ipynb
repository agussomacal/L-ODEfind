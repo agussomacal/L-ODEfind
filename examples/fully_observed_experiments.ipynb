{
 "cells": [
  {
   "cell_type": "markdown",
   "metadata": {},
   "source": [
    "## About this notebook\n",
    "This notebook has the experients done in **Uncovering differential equations from data with hidden variables** when all the variables are observed. We analyze the Lorenz Attractor system. "
   ]
  },
  {
   "cell_type": "code",
   "execution_count": 1,
   "metadata": {},
   "outputs": [],
   "source": [
    "import numpy as np\n",
    "import pandas as pd\n",
    "import sys\n",
    "import os\n",
    "import warnings"
   ]
  },
  {
   "cell_type": "code",
   "execution_count": 2,
   "metadata": {},
   "outputs": [],
   "source": [
    "notebooks_dir = get_ipython().starting_dir\n",
    "sys.path.append(os.path.join(notebooks_dir, '..', '.'))"
   ]
  },
  {
   "cell_type": "code",
   "execution_count": 3,
   "metadata": {},
   "outputs": [],
   "source": [
    "from src.scripts.ode.fit_odefind import fit_and_save_coeffs\n",
    "from src.scripts.ode.mse_time_comparison import compare_coeffs, plot_mse_time\n",
    "from src.scripts.config import data_path, results_path\n"
   ]
  },
  {
   "cell_type": "markdown",
   "metadata": {},
   "source": [
    "## Parameters\n",
    "In order to reproduce the publication experiments, the number of steps needs to be set in 10240 (it takes arround 60hs to run). Here, we set the number of steps in 40."
   ]
  },
  {
   "cell_type": "code",
   "execution_count": 4,
   "metadata": {},
   "outputs": [],
   "source": [
    "system = 'LorenzAttractor'\n",
    "obs_vars = ['x', 'y', 'z']\n",
    "targets = [1]\n",
    "maxpolys = [2]\n",
    "var_name = 'X'\n",
    "d = 1\n",
    "gpomo_steps = 40"
   ]
  },
  {
   "cell_type": "markdown",
   "metadata": {},
   "source": [
    "## Fit L-ODEfind model"
   ]
  },
  {
   "cell_type": "code",
   "execution_count": null,
   "metadata": {},
   "outputs": [],
   "source": [
    "%%time\n",
    "fit_and_save_coeffs(model=model, out=system, targets=targets, maxpolys=maxpolys, obs_vars=obs_vars, testsize=200)\n"
   ]
  },
  {
   "cell_type": "markdown",
   "metadata": {},
   "source": [
    "## Fit GPoMo model"
   ]
  },
  {
   "cell_type": "code",
   "execution_count": null,
   "metadata": {},
   "outputs": [],
   "source": [
    "d_path = str(data_path.resolve()) + f'/{system}/'\n",
    "r_path = str(results_path.resolve()) + f\"/{system}_{'_'.join(obs_vars)}/\""
   ]
  },
  {
   "cell_type": "code",
   "execution_count": null,
   "metadata": {
    "scrolled": true
   },
   "outputs": [],
   "source": [
    "%%time\n",
    "%cd ..\n",
    "%cd r_scripts\n",
    "! Rscript gpomo_all_var_observed.R $d_path $r_path $gpomo_steps"
   ]
  },
  {
   "cell_type": "markdown",
   "metadata": {},
   "source": [
    "## Compare GPoMo vs L-ODEfind MSE"
   ]
  },
  {
   "cell_type": "code",
   "execution_count": 5,
   "metadata": {},
   "outputs": [
    {
     "data": {
      "image/png": "[encoded data removed]",
      "text/plain": [
       "<Figure size 720x504 with 1 Axes>"
      ]
     },
     "metadata": {
      "needs_background": "light"
     },
     "output_type": "display_data"
    }
   ],
   "source": [
    "system_results = system +'_'+ '_'.join(obs_vars)\n",
    "df_mse_odefind, coeffs_odefind = compare_coeffs(original_data=system , \n",
    "                                                results_folder= system_results+'_Odefind',\n",
    "                                                var_name=var_name,\n",
    "                                                d=d)\n",
    "\n",
    "df_mse_gpomo, coeffs_gpomo = compare_coeffs(original_data=system,\n",
    "                                            results_folder=system_results,\n",
    "                                            var_name=var_name,\n",
    "                                            d=d)\n",
    "\n",
    "\n",
    "plot_mse_time(pd.concat([df_mse_gpomo, df_mse_odefind]), system_results)"
   ]
  }
 ],
 "metadata": {
  "kernelspec": {
   "display_name": "venvlodefind",
   "language": "python",
   "name": "venvlodefind"
  },
  "language_info": {
   "codemirror_mode": {
    "name": "ipython",
    "version": 3
   },
   "file_extension": ".py",
   "mimetype": "text/x-python",
   "name": "python",
   "nbconvert_exporter": "python",
   "pygments_lexer": "ipython3",
   "version": "3.8.0"
  }
 },
 "nbformat": 4,
 "nbformat_minor": 4
}
